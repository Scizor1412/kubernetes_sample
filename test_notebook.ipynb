{
 "cells": [
  {
   "cell_type": "code",
   "execution_count": null,
   "id": "181d8d67",
   "metadata": {},
   "outputs": [
    {
     "name": "stdout",
     "output_type": "stream",
     "text": [
      "one trillion two hundred eighty three billion nine hundred seventy one million two hundred ninety three thousand eight hundred sixteen  \n"
     ]
    }
   ],
   "source": [
    "import math\n",
    "\n",
    "a = '1283971293816.5'\n",
    "\n",
    "def convert_3_digit_number_to_word(num):\n",
    "    if num == 0:\n",
    "        return \"zero\"\n",
    "    \n",
    "    hundreds = num // 100\n",
    "    tens_units = num % 100\n",
    "    \n",
    "    words = []\n",
    "    \n",
    "    if hundreds > 0:\n",
    "        words.append(number_to_word_dict[hundreds])\n",
    "        words.append(\"hundred\")\n",
    "    \n",
    "    if tens_units > 0:\n",
    "        if tens_units < 20:\n",
    "            words.append(number_to_word_dict[tens_units])\n",
    "        else:\n",
    "            tens_place = tens_units // 10\n",
    "            units_place = tens_units % 10\n",
    "            \n",
    "            words.append(tens[tens_place])\n",
    "            if units_place > 0:\n",
    "                words.append(number_to_word_dict[units_place])\n",
    "    \n",
    "    return ' '.join(words)\n",
    "\n",
    "\n",
    "location_to_unit_dict = {\n",
    "    1: \"thousand\",\n",
    "    2: \"million\",\n",
    "    3: \"billion\",\n",
    "    4: \"trillion\",\n",
    "    5: \"quadrillion\",\n",
    "}\n",
    "\n",
    "number_to_word_dict = {\n",
    "    1: \"one\",\n",
    "    2: \"two\",\n",
    "    3: \"three\",\n",
    "    4: \"four\",\n",
    "    5: \"five\",\n",
    "    6: \"six\",\n",
    "    7: \"seven\",\n",
    "    8: \"eight\",\n",
    "    9: \"nine\",\n",
    "    0: \"zero\",\n",
    "    10: \"ten\",\n",
    "    11: \"eleven\",\n",
    "    12: \"twelve\",\n",
    "    13: \"thirteen\",\n",
    "    14: \"fourteen\",\n",
    "    15: \"fifteen\",\n",
    "    16: \"sixteen\",\n",
    "    17: \"seventeen\",\n",
    "    18: \"eighteen\",\n",
    "    19: \"nineteen\",\n",
    "}\n",
    "    \n",
    "tens = {\n",
    "    2: \"twenty\",\n",
    "    3: \"thirty\",\n",
    "    4: \"forty\",\n",
    "    5: \"fifty\",\n",
    "    6: \"sixty\",\n",
    "    7: \"seventy\",\n",
    "    8: \"eighty\",\n",
    "    9: \"ninety\",\n",
    "}\n",
    "\n",
    "max_unit = math.floor(len(a)/3)\n",
    "result = ''\n",
    "for i in range(max_unit + 1):\n",
    "    if i == 0:\n",
    "        result += (convert_3_digit_number_to_word(int(a[:len(a)%3]))  + ' ' + location_to_unit_dict.get(max_unit - i, '') + ' ')\n",
    "    else:\n",
    "        result += (convert_3_digit_number_to_word(int(a[len(a)%3 + i*3 -3:len(a)%3+3*i])) + ' ' + location_to_unit_dict.get(max_unit - i, '') + ' ')\n",
    "\n",
    "\n",
    "print(result)"
   ]
  },
  {
   "cell_type": "code",
   "execution_count": 57,
   "id": "32bd95cb",
   "metadata": {},
   "outputs": [
    {
     "name": "stdout",
     "output_type": "stream",
     "text": [
      "{'maths': ['paulo', 'nurdin'], 'chemistry': ['paulo', 'victor', 'skyler'], 'biology': ['paulo'], 'history': ['nurdin', 'skyler'], 'physics': ['victor']}\n",
      "('paulo', 'nurdin')\n",
      "('paulo', 'victor')\n",
      "('paulo', 'skyler')\n",
      "('victor', 'skyler')\n",
      "('nurdin', 'skyler')\n"
     ]
    }
   ],
   "source": [
    "# write a python program which takes students and their enrolled subjects in JSON and produce an output which is a list of tuple pairs of students who have enrolled in the same course\n",
    " \n",
    "input = {\n",
    "    'paulo': ['maths', 'chemistry', 'biology'],\n",
    "    'nurdin': ['maths', 'history'],\n",
    "    'victor': ['chemistry', 'physics'],\n",
    "    'skyler': ['chemistry', 'history']\n",
    "}\n",
    "\n",
    "[('paulo', 'nurdin'), ('paulo', 'victor'), ('paulo', 'skyler'),\n",
    "                  ('victor', 'skyler'), ('skyler', 'nurdin')]\n",
    "\n",
    "\n",
    "subject_list = {}\n",
    "\n",
    "for student, subjects in input.items():\n",
    "    for subject in subjects:\n",
    "        if subject not in subject_list:\n",
    "            subject_list[subject] = []\n",
    "        subject_list[subject].append(student)\n",
    "\n",
    "print(subject_list)\n",
    "\n",
    "for subject in subject_list:\n",
    "    if len(subject_list[subject]) > 1:\n",
    "        for i in range(len(subject_list[subject])):\n",
    "            for j in range(i + 1, len(subject_list[subject])):\n",
    "                print((subject_list[subject][i], subject_list[subject][j]))\n",
    "\n",
    "\n"
   ]
  },
  {
   "cell_type": "code",
   "execution_count": null,
   "id": "402403ca",
   "metadata": {},
   "outputs": [
    {
     "ename": "TypeError",
     "evalue": "unhashable type: 'list'",
     "output_type": "error",
     "traceback": [
      "\u001b[0;31m---------------------------------------------------------------------------\u001b[0m",
      "\u001b[0;31mTypeError\u001b[0m                                 Traceback (most recent call last)",
      "Cell \u001b[0;32mIn[69], line 15\u001b[0m\n\u001b[1;32m     12\u001b[0m target \u001b[38;5;241m=\u001b[39m \u001b[38;5;241m9\u001b[39m\n\u001b[1;32m     13\u001b[0m \u001b[38;5;66;03m# Output: [0, 1]\u001b[39;00m\n\u001b[0;32m---> 15\u001b[0m \u001b[43mget_substract\u001b[49m\u001b[43m(\u001b[49m\u001b[43mnums\u001b[49m\u001b[43m,\u001b[49m\u001b[43m \u001b[49m\u001b[43mtarget\u001b[49m\u001b[43m)\u001b[49m\n",
      "Cell \u001b[0;32mIn[69], line 8\u001b[0m, in \u001b[0;36mget_substract\u001b[0;34m(nums, target)\u001b[0m\n\u001b[1;32m      6\u001b[0m     substract \u001b[38;5;241m=\u001b[39m target \u001b[38;5;241m-\u001b[39m value\n\u001b[1;32m      7\u001b[0m     \u001b[38;5;28;01mif\u001b[39;00m substract \u001b[38;5;129;01min\u001b[39;00m nums:\n\u001b[0;32m----> 8\u001b[0m         \u001b[43mresult_set\u001b[49m\u001b[38;5;241;43m.\u001b[39;49m\u001b[43madd\u001b[49m\u001b[43m(\u001b[49m\u001b[43m(\u001b[49m\u001b[38;5;28;43msorted\u001b[39;49m\u001b[43m(\u001b[49m\u001b[43m(\u001b[49m\u001b[43mindex\u001b[49m\u001b[43m,\u001b[49m\u001b[43m \u001b[49m\u001b[43mnums\u001b[49m\u001b[38;5;241;43m.\u001b[39;49m\u001b[43mindex\u001b[49m\u001b[43m(\u001b[49m\u001b[43msubstract\u001b[49m\u001b[43m)\u001b[49m\u001b[43m)\u001b[49m\u001b[43m)\u001b[49m\u001b[43m)\u001b[49m\u001b[43m)\u001b[49m\n\u001b[1;32m      9\u001b[0m \u001b[38;5;28;01mreturn\u001b[39;00m result_set\n",
      "\u001b[0;31mTypeError\u001b[0m: unhashable type: 'list'"
     ]
    }
   ],
   "source": [
    "# Given an integer array nums and an integer target, return the indices of the two numbers such that they add up to target.\n",
    " \n",
    "def get_substract(nums, target):\n",
    "    result_set = set()\n",
    "    for index, value in enumerate(nums):\n",
    "        substract = target - value\n",
    "        if substract in nums:\n",
    "            print(sorted((index, nums.index(substract))))\n",
    "            # result_set.add()\n",
    "    return result_set\n",
    "        \n",
    "nums = [2, 7, 5, 4]\n",
    "target = 9\n",
    "# Output: [0, 1]\n",
    "\n",
    "get_substract(nums, target)\n"
   ]
  }
 ],
 "metadata": {
  "kernelspec": {
   "display_name": "Python 3",
   "language": "python",
   "name": "python3"
  },
  "language_info": {
   "codemirror_mode": {
    "name": "ipython",
    "version": 3
   },
   "file_extension": ".py",
   "mimetype": "text/x-python",
   "name": "python",
   "nbconvert_exporter": "python",
   "pygments_lexer": "ipython3",
   "version": "3.12.9"
  }
 },
 "nbformat": 4,
 "nbformat_minor": 5
}
